{
 "cells": [
  {
   "cell_type": "markdown",
   "id": "a433ccca-d3ab-4cc5-9769-6fe23bc349c8",
   "metadata": {},
   "source": [
    "# 1. Exercise-1: \n",
    "\n",
    " * **Write a Python program that takes a list of numbers as input and prints the sum of all the numbers in the list.**\n",
    "\n"
   ]
  },
  {
   "cell_type": "code",
   "execution_count": null,
   "id": "088e2798-cfe7-4958-be66-2ae93a444b32",
   "metadata": {},
   "outputs": [],
   "source": []
  },
  {
   "cell_type": "code",
   "execution_count": 39,
   "id": "ffcf5cda-ed4f-4064-a122-5914efdf2e39",
   "metadata": {},
   "outputs": [],
   "source": []
  },
  {
   "cell_type": "code",
   "execution_count": null,
   "id": "9471df2c-c701-4783-9b63-64fb0082a878",
   "metadata": {},
   "outputs": [],
   "source": []
  },
  {
   "cell_type": "code",
   "execution_count": null,
   "id": "42bb0018-a093-4233-bab1-22c24d544f10",
   "metadata": {},
   "outputs": [],
   "source": [
    "\n"
   ]
  },
  {
   "cell_type": "markdown",
   "id": "199f27d9-5e1d-4a75-aef3-79410540d474",
   "metadata": {},
   "source": [
    "# 2. Exercise-2: \n",
    "\n",
    " * **Write a Python program that takes a list of numbers and prints only the even numbers from the list.**\n",
    "\n"
   ]
  },
  {
   "cell_type": "code",
   "execution_count": null,
   "id": "ebe3c2dc-e6ef-490e-98dd-4841a67b1a7e",
   "metadata": {},
   "outputs": [],
   "source": []
  },
  {
   "cell_type": "code",
   "execution_count": null,
   "id": "4dfa6287-8160-42b8-9ba5-44928158e76b",
   "metadata": {},
   "outputs": [],
   "source": []
  },
  {
   "cell_type": "code",
   "execution_count": null,
   "id": "62174a99-39f8-4f7a-9c37-d937c2b66408",
   "metadata": {},
   "outputs": [],
   "source": []
  },
  {
   "cell_type": "code",
   "execution_count": null,
   "id": "eebc8a05-47f1-495f-aeb8-7974c3d60d5c",
   "metadata": {},
   "outputs": [],
   "source": []
  },
  {
   "cell_type": "code",
   "execution_count": null,
   "id": "2ef480f0-3d94-4d82-b23e-3a8f365bb4a1",
   "metadata": {},
   "outputs": [],
   "source": []
  },
  {
   "cell_type": "markdown",
   "id": "af24cb84-6037-45f4-85b6-3cb9475685da",
   "metadata": {},
   "source": [
    "# 3. Exercise-3: \n",
    "\n",
    " * **Write a programe that takes a list of numbers and creates a dictionary where the keys are the numbers and the values are the squares of those numbers**\n",
    "\n"
   ]
  },
  {
   "cell_type": "code",
   "execution_count": 5,
   "id": "e260362d-14c4-4623-916b-55baa80f0889",
   "metadata": {},
   "outputs": [
    {
     "name": "stdout",
     "output_type": "stream",
     "text": [
      "{'0': 0, '1': 1, '2': 4, '3': 9, '4': 16, '5': 25, '6': 36, '7': 49, '8': 64, '9': 81}\n"
     ]
    }
   ],
   "source": [
    "d={}\n",
    "\n",
    "for i in range(10):\n",
    "    d[str(i)] = i*i\n",
    "print(d)   "
   ]
  },
  {
   "cell_type": "markdown",
   "id": "96f0b7b8-0d6a-4147-9917-1dda174fcfc0",
   "metadata": {},
   "source": [
    "# 4. Exercise-4: \n",
    "\n",
    " * **Write a programe that takes a list and creates a dictionary where the keys are the elements from the list and the values are the number of times each element appears in the list.**\n",
    "\n"
   ]
  },
  {
   "cell_type": "code",
   "execution_count": null,
   "id": "65ab4ef8-4ff6-4301-abf1-d173c69ae180",
   "metadata": {},
   "outputs": [],
   "source": [
    "\n",
    "\n",
    "\n"
   ]
  },
  {
   "cell_type": "code",
   "execution_count": null,
   "id": "a26e61a3-8a14-4e98-b855-7cf5c8685ae2",
   "metadata": {},
   "outputs": [],
   "source": []
  },
  {
   "cell_type": "markdown",
   "id": "6b61846f-2a41-4c72-8ad5-d3310bf75826",
   "metadata": {},
   "source": [
    "# 5. Exercise-5: \n",
    "\n",
    " * **Write a program that takes a list of numbers and prints the maximum value from that list without using Python’s built-in max() function. Use a for loop and if statements to compare the elements.**\n",
    "\n"
   ]
  },
  {
   "cell_type": "code",
   "execution_count": null,
   "id": "69c0f0fe-00c5-4260-bc17-4eb7397d836d",
   "metadata": {},
   "outputs": [],
   "source": []
  },
  {
   "cell_type": "code",
   "execution_count": null,
   "id": "7643088d-c3ba-4f04-88b3-3891ab96bed7",
   "metadata": {},
   "outputs": [],
   "source": [
    "def maxi(num):\n",
    "    maximum = num[0]\n",
    "    for i in range(1, len(num)):\n",
    "        if num[i] > maximum:\n",
    "            maximum = num[i]\n",
    "    return maximum"
   ]
  },
  {
   "cell_type": "code",
   "execution_count": null,
   "id": "89ba2d9a-c404-434a-868e-db4fc67f3361",
   "metadata": {},
   "outputs": [],
   "source": []
  },
  {
   "cell_type": "markdown",
   "id": "d94030a6-d60a-442a-b8e8-678f3a4fe3eb",
   "metadata": {},
   "source": [
    "# 6. Exercise-6: \n",
    "\n",
    " * **Write a program that takes two lists and creates a list of elements that are present in both lists (i.e., the intersection of two lists).**\n",
    "\n"
   ]
  },
  {
   "cell_type": "code",
   "execution_count": 38,
   "id": "8712b88e-9721-46cb-86f5-d83510ad0878",
   "metadata": {},
   "outputs": [
    {
     "name": "stdout",
     "output_type": "stream",
     "text": [
      "{'1': 3, '22': 1, '3': 1, '4': 1, '444': 1, '5': 2, '6': 1}\n"
     ]
    }
   ],
   "source": [
    "d={}\n",
    "x=[1,1,1,22,3,4,444,5,5,6]\n",
    "for number in x: \n",
    "    co=0\n",
    "    for e in x:\n",
    "        if e ==number:\n",
    "            co= co + 1\n",
    "    d[ str(number) ] = co\n",
    "print(d)"
   ]
  },
  {
   "cell_type": "markdown",
   "id": "fc9f8599-4f23-4604-bcf4-b54247f079d5",
   "metadata": {},
   "source": [
    "#Bonus: \n",
    "\n",
    " * **Write a program that takes a list and sorts it from smallest to largest.**\n",
    " * **Write a program that takes a list searches for a specific element in it, using for loop**\n",
    " * **Write a program that takes a sorted list searches for a specific element in it, using for loop**\n",
    "\n"
   ]
  },
  {
   "cell_type": "code",
   "execution_count": null,
   "id": "17d70ec6-22e6-4bad-9048-3d9ffdfec4e2",
   "metadata": {},
   "outputs": [],
   "source": []
  }
 ],
 "metadata": {
  "kernelspec": {
   "display_name": "Python 3",
   "language": "python",
   "name": "python3"
  },
  "language_info": {
   "codemirror_mode": {
    "name": "ipython",
    "version": 3
   },
   "file_extension": ".py",
   "mimetype": "text/x-python",
   "name": "python",
   "nbconvert_exporter": "python",
   "pygments_lexer": "ipython3",
   "version": "3.13.1"
  }
 },
 "nbformat": 4,
 "nbformat_minor": 5
}
