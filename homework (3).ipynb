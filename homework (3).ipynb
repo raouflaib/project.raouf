{
 "cells": [
  {
   "cell_type": "markdown",
   "id": "a433ccca-d3ab-4cc5-9769-6fe23bc349c8",
   "metadata": {},
   "source": [
    "# 1. Exercise-1: \n",
    "\n",
    " * **Write a Python program that takes a list of numbers as input and prints the sum of all the numbers in the list.**\n",
    "\n"
   ]
  },
  {
   "cell_type": "code",
   "execution_count": 1,
   "id": "088e2798-cfe7-4958-be66-2ae93a444b32",
   "metadata": {},
   "outputs": [],
   "source": [
    "x = []\n",
    "for i in range(10):\n",
    "    x.append(i)\n",
    "\n"
   ]
  },
  {
   "cell_type": "code",
   "execution_count": 2,
   "id": "ffcf5cda-ed4f-4064-a122-5914efdf2e39",
   "metadata": {},
   "outputs": [
    {
     "name": "stdout",
     "output_type": "stream",
     "text": [
      "[0, 1, 2, 3, 4, 5, 6, 7, 8, 9]\n"
     ]
    }
   ],
   "source": [
    "print(x)"
   ]
  },
  {
   "cell_type": "code",
   "execution_count": 3,
   "id": "9471df2c-c701-4783-9b63-64fb0082a878",
   "metadata": {},
   "outputs": [],
   "source": [
    "s = 0\n",
    "for number in x:\n",
    "    s = s + number"
   ]
  },
  {
   "cell_type": "code",
   "execution_count": 4,
   "id": "42bb0018-a093-4233-bab1-22c24d544f10",
   "metadata": {},
   "outputs": [
    {
     "name": "stdout",
     "output_type": "stream",
     "text": [
      "45\n"
     ]
    }
   ],
   "source": [
    "\n",
    "print(s)"
   ]
  },
  {
   "cell_type": "code",
   "execution_count": 47,
   "id": "644a4070-00f7-4a44-87e3-00277f6fb071",
   "metadata": {},
   "outputs": [],
   "source": [
    "def list_sum(l):\n",
    "    s = 0\n",
    "    \n",
    "    for number in l:\n",
    "        s = s + number\n",
    "    return s"
   ]
  },
  {
   "cell_type": "code",
   "execution_count": 49,
   "id": "57c77ed2-c386-472c-9e60-7009374dee5a",
   "metadata": {},
   "outputs": [
    {
     "name": "stdout",
     "output_type": "stream",
     "text": [
      "15\n"
     ]
    }
   ],
   "source": [
    "print(list_sum([1,2,3,4,5]))"
   ]
  },
  {
   "cell_type": "markdown",
   "id": "199f27d9-5e1d-4a75-aef3-79410540d474",
   "metadata": {},
   "source": [
    "# 2. Exercise-2: \n",
    "\n",
    " * **Write a Python program that takes a list of numbers and prints only the even numbers from the list.**\n",
    "\n"
   ]
  },
  {
   "cell_type": "code",
   "execution_count": 7,
   "id": "ebe3c2dc-e6ef-490e-98dd-4841a67b1a7e",
   "metadata": {},
   "outputs": [
    {
     "name": "stdin",
     "output_type": "stream",
     "text": [
      " 1\n",
      " 2\n",
      " 3\n",
      " 4\n",
      " 5\n"
     ]
    }
   ],
   "source": [
    "x = []\n",
    "# Method: 1\n",
    "for i in range(5):\n",
    "    x.append( int(input()) )"
   ]
  },
  {
   "cell_type": "code",
   "execution_count": 16,
   "id": "4dfa6287-8160-42b8-9ba5-44928158e76b",
   "metadata": {},
   "outputs": [
    {
     "name": "stdin",
     "output_type": "stream",
     "text": [
      "Enter the elemetns of the list separated by white spaces: 1 2 3 4\n"
     ]
    }
   ],
   "source": [
    "# Method: 2\n",
    "numbers = input(\"Enter the elemetns of the list separated by white spaces:\")\n",
    "numbers = numbers.split(\" \")\n",
    "y = []\n",
    "for n in numbers:\n",
    "    y.append(int( n ))"
   ]
  },
  {
   "cell_type": "code",
   "execution_count": 17,
   "id": "62174a99-39f8-4f7a-9c37-d937c2b66408",
   "metadata": {},
   "outputs": [
    {
     "data": {
      "text/plain": [
       "[1, 2, 3, 4]"
      ]
     },
     "execution_count": 17,
     "metadata": {},
     "output_type": "execute_result"
    }
   ],
   "source": [
    "y"
   ]
  },
  {
   "cell_type": "code",
   "execution_count": 20,
   "id": "eebc8a05-47f1-495f-aeb8-7974c3d60d5c",
   "metadata": {},
   "outputs": [
    {
     "name": "stdout",
     "output_type": "stream",
     "text": [
      "2\n",
      "4\n"
     ]
    }
   ],
   "source": [
    "for n in y:\n",
    "    if n % 2 == 0:\n",
    "        print(n)"
   ]
  },
  {
   "cell_type": "code",
   "execution_count": 19,
   "id": "2ef480f0-3d94-4d82-b23e-3a8f365bb4a1",
   "metadata": {},
   "outputs": [
    {
     "name": "stdout",
     "output_type": "stream",
     "text": [
      "10\n"
     ]
    }
   ],
   "source": []
  },
  {
   "cell_type": "markdown",
   "id": "af24cb84-6037-45f4-85b6-3cb9475685da",
   "metadata": {},
   "source": [
    "# 3. Exercise-3: \n",
    "\n",
    " * **Write a programe that takes a list of numbers and creates a dictionary where the keys are the numbers and the values are the squares of those numbers**\n",
    "\n"
   ]
  },
  {
   "cell_type": "code",
   "execution_count": 33,
   "id": "e260362d-14c4-4623-916b-55baa80f0889",
   "metadata": {},
   "outputs": [],
   "source": [
    "d = {}\n",
    "for i in y:\n",
    "    d[ str(i) ] = i * i"
   ]
  },
  {
   "cell_type": "code",
   "execution_count": 34,
   "id": "c433d85d-026f-46cf-a83b-bda43278c86a",
   "metadata": {},
   "outputs": [
    {
     "name": "stdout",
     "output_type": "stream",
     "text": [
      "{'100': 10000, '3': 9, '5': 25, '55': 3025, '77': 5929}\n"
     ]
    }
   ],
   "source": [
    "print(d)"
   ]
  },
  {
   "cell_type": "markdown",
   "id": "96f0b7b8-0d6a-4147-9917-1dda174fcfc0",
   "metadata": {},
   "source": [
    "# 4. Exercise-4: \n",
    "\n",
    " * **Write a programe that takes a list and creates a dictionary where the keys are the elements from the list and the values are the number of times each element appears in the list.**\n",
    "\n"
   ]
  },
  {
   "cell_type": "code",
   "execution_count": null,
   "id": "65ab4ef8-4ff6-4301-abf1-d173c69ae180",
   "metadata": {},
   "outputs": [],
   "source": [
    "# [2,3,3,4,5] => {\"2\":1, \"3\": 2, \"4\":1, \"5\":1} "
   ]
  },
  {
   "cell_type": "code",
   "execution_count": 36,
   "id": "a26e61a3-8a14-4e98-b855-7cf5c8685ae2",
   "metadata": {},
   "outputs": [],
   "source": [
    "x = [1,1,1,2,2,3,4,444,5,5,6]\n",
    "\n"
   ]
  },
  {
   "cell_type": "code",
   "execution_count": 40,
   "id": "9837b265-3bd5-4227-91bc-0ff138b86c04",
   "metadata": {},
   "outputs": [
    {
     "name": "stdout",
     "output_type": "stream",
     "text": [
      "2\n"
     ]
    }
   ],
   "source": [
    "co = 0\n",
    "for e in x:\n",
    "    if e == 5:\n",
    "        co = co + 1\n",
    "print(co)"
   ]
  },
  {
   "cell_type": "code",
   "execution_count": 45,
   "id": "f6895833-a355-47df-88e7-e19974fe6f2b",
   "metadata": {},
   "outputs": [
    {
     "name": "stdout",
     "output_type": "stream",
     "text": [
      "{'1': 0, '2': 0, '3': 0, '4': 0, '444': 0, '5': 0, '6': 11}\n"
     ]
    }
   ],
   "source": [
    "d = {}\n",
    "for number in x: #[1,1,1,2,2,3,4,444,5,5,6]\n",
    "    co = 0\n",
    "    for i in x:\n",
    "        if e == number:\n",
    "            co = co + 1\n",
    "    d[ str(number) ] = co\n",
    "print(d)\n",
    "    "
   ]
  },
  {
   "cell_type": "markdown",
   "id": "6b61846f-2a41-4c72-8ad5-d3310bf75826",
   "metadata": {},
   "source": [
    "# 5. Exercise-5: \n",
    "\n",
    " * **Write a program that takes a list of numbers and prints the maximum value from that list without using Python’s built-in max() function. Use a for loop and if statements to compare the elements.**\n",
    "\n"
   ]
  },
  {
   "cell_type": "code",
   "execution_count": 21,
   "id": "69c0f0fe-00c5-4260-bc17-4eb7397d836d",
   "metadata": {},
   "outputs": [
    {
     "name": "stdin",
     "output_type": "stream",
     "text": [
      "Enter the elemetns of the list separated by white spaces: 100 3 5 55 77\n"
     ]
    }
   ],
   "source": [
    "numbers = input(\"Enter the elemetns of the list separated by white spaces:\")\n",
    "numbers = numbers.split(\" \")\n",
    "y = []\n",
    "for n in numbers:\n",
    "    y.append(int( n ))\n",
    "\n",
    "max_value = y[0]\n",
    "for e in y:\n",
    "    if e > max_value:\n",
    "        max_value = e"
   ]
  },
  {
   "cell_type": "code",
   "execution_count": 29,
   "id": "89ba2d9a-c404-434a-868e-db4fc67f3361",
   "metadata": {},
   "outputs": [
    {
     "name": "stdout",
     "output_type": "stream",
     "text": [
      "100\n"
     ]
    }
   ],
   "source": [
    "print(max_value)"
   ]
  },
  {
   "cell_type": "code",
   "execution_count": null,
   "id": "5472db98-dc42-4b1b-ab7d-804d19ff5f07",
   "metadata": {},
   "outputs": [],
   "source": []
  },
  {
   "cell_type": "code",
   "execution_count": null,
   "id": "93449c79-4a43-46f0-9b9d-3c292a4f6f64",
   "metadata": {},
   "outputs": [],
   "source": []
  },
  {
   "cell_type": "code",
   "execution_count": null,
   "id": "96cfcb6b-80ad-4ef7-8287-2e3c5e981451",
   "metadata": {},
   "outputs": [],
   "source": []
  },
  {
   "cell_type": "code",
   "execution_count": 31,
   "id": "cdcd338d-21e3-4f88-ac99-3e5416af0a74",
   "metadata": {},
   "outputs": [],
   "source": [
    "x \n",
    "for i in x:\n",
    "    if i == 7:\n",
    "        print(\"it exists\")"
   ]
  },
  {
   "cell_type": "markdown",
   "id": "d94030a6-d60a-442a-b8e8-678f3a4fe3eb",
   "metadata": {},
   "source": [
    "# 6. Exercise-6: \n",
    "\n",
    " * **Write a program that takes two lists and creates a list of elements that are present in both lists (i.e., the intersection of two lists).**\n",
    "\n"
   ]
  },
  {
   "cell_type": "code",
   "execution_count": null,
   "id": "8712b88e-9721-46cb-86f5-d83510ad0878",
   "metadata": {},
   "outputs": [],
   "source": []
  },
  {
   "cell_type": "markdown",
   "id": "fc9f8599-4f23-4604-bcf4-b54247f079d5",
   "metadata": {},
   "source": [
    "#Bonus: \n",
    "\n",
    " * **Write a program that takes a list and sorts it from smallest to largest.**\n",
    " * **Write a program that takes a list searches for a specific element in it, using for loop**\n",
    " * **Write a program that takes a sorted list searches for a specific element in it, using for loop**\n",
    "\n"
   ]
  },
  {
   "cell_type": "code",
   "execution_count": null,
   "id": "17d70ec6-22e6-4bad-9048-3d9ffdfec4e2",
   "metadata": {},
   "outputs": [],
   "source": []
  },
  {
   "cell_type": "code",
   "execution_count": null,
   "id": "d4edad4e-e695-45b7-a72f-73b8603ac3e4",
   "metadata": {},
   "outputs": [],
   "source": []
  },
  {
   "cell_type": "code",
   "execution_count": null,
   "id": "4ca04cb0-4ed5-49b4-94e9-2d72cc9da8eb",
   "metadata": {},
   "outputs": [],
   "source": []
  },
  {
   "cell_type": "code",
   "execution_count": null,
   "id": "025d0de0-6e42-4284-a22a-3b2e0ceea0e1",
   "metadata": {},
   "outputs": [],
   "source": []
  },
  {
   "cell_type": "code",
   "execution_count": null,
   "id": "6dd58c62-d969-4f7d-81ae-786b61f43a86",
   "metadata": {},
   "outputs": [],
   "source": []
  },
  {
   "cell_type": "code",
   "execution_count": 24,
   "id": "7799cd0d-df4a-44a2-bba4-aab5fc68f89c",
   "metadata": {},
   "outputs": [],
   "source": [
    "x = [11,22,33,44]"
   ]
  },
  {
   "cell_type": "code",
   "execution_count": 28,
   "id": "684f487e-761a-48a0-85c1-f471930211e1",
   "metadata": {},
   "outputs": [
    {
     "name": "stdout",
     "output_type": "stream",
     "text": [
      "11\n",
      "22\n",
      "33\n",
      "44\n"
     ]
    }
   ],
   "source": [
    "for i in x:\n",
    "    print(i)"
   ]
  }
 ],
 "metadata": {
  "kernelspec": {
   "display_name": "Python 3 (ipykernel)",
   "language": "python",
   "name": "python3"
  },
  "language_info": {
   "codemirror_mode": {
    "name": "ipython",
    "version": 3
   },
   "file_extension": ".py",
   "mimetype": "text/x-python",
   "name": "python",
   "nbconvert_exporter": "python",
   "pygments_lexer": "ipython3",
   "version": "3.11.2"
  }
 },
 "nbformat": 4,
 "nbformat_minor": 5
}
