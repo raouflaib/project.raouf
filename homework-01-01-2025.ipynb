{
 "cells": [
  {
   "cell_type": "markdown",
   "metadata": {},
   "source": [
    "# problem:1\n",
    "\n",
    "* Create a funtion that creates *Fibonacci sequence* \n",
    "\n",
    "\n",
    "$$\n",
    "F(n) = \n",
    "\\begin{cases} \n",
    "0 & \\text{if } n = 0 \\\\\n",
    "1 & \\text{if } n = 1 \\\\\n",
    "F(n-1) + F(n-2) & \\text{if } n > 1\n",
    "\\end{cases}\n",
    "$$"
   ]
  },
  {
   "cell_type": "code",
   "execution_count": 17,
   "metadata": {},
   "outputs": [],
   "source": [
    "def F(n):\n",
    "    if n==0:\n",
    "        return 0\n",
    "    elif n==1 :\n",
    "        return 1\n",
    "    elif n > 1:\n",
    "        return F(n-1)+F(n-2)"
   ]
  },
  {
   "cell_type": "code",
   "execution_count": 18,
   "metadata": {},
   "outputs": [
    {
     "data": {
      "text/plain": [
       "55"
      ]
     },
     "execution_count": 18,
     "metadata": {},
     "output_type": "execute_result"
    }
   ],
   "source": [
    "F(10)"
   ]
  },
  {
   "cell_type": "markdown",
   "metadata": {},
   "source": [
    "# problem:2\n",
    "\n",
    "* Create two funtions that create these sequences: \n",
    "\n",
    "\n",
    "1. For \\( U \\):\n",
    "   $$ \n",
    "   U_1 = 0, \\quad U_{n+1} = 2 \\cdot U_n + V_n \n",
    "   $$\n",
    "\n",
    "2. For \\( V \\):\n",
    "   $$ \n",
    "   V_1 = 4, \\quad V_{n+1} = V_n + \\frac{U_n}{5} \n",
    "   $$"
   ]
  },
  {
   "cell_type": "code",
   "execution_count": 23,
   "metadata": {},
   "outputs": [],
   "source": [
    "def U(n):\n",
    "    if n==1:\n",
    "        return 0\n",
    "    elif n>1:\n",
    "        return 2*U(n-1)+v(n-1)\n",
    "    \n",
    "def v(n):\n",
    "    if n==1:\n",
    "        return 4\n",
    "    elif n > 1 :\n",
    "        return V(n-1)+U(n-1)/5"
   ]
  },
  {
   "cell_type": "code",
   "execution_count": 29,
   "metadata": {},
   "outputs": [
    {
     "data": {
      "text/plain": [
       "4"
      ]
     },
     "execution_count": 29,
     "metadata": {},
     "output_type": "execute_result"
    }
   ],
   "source": [
    "v(1)"
   ]
  },
  {
   "cell_type": "markdown",
   "metadata": {},
   "source": [
    "# Problem-3:\n",
    "\n",
    "1. Takes a list as input.\n",
    "2. Iterates through the list to remove duplicate elements while maintaining the original order.\n",
    "3. Returns the modified list with duplicates removed.\n",
    "\n",
    "Example:\n",
    "- Input: `[1, 2, 2, 3, 4, 4, 5]`\n",
    "- Output: `[1, 2, 3, 4, 5]`"
   ]
  },
  {
   "cell_type": "code",
   "execution_count": 7,
   "metadata": {},
   "outputs": [
    {
     "name": "stdout",
     "output_type": "stream",
     "text": [
      "[1, 2, 3, 4]\n"
     ]
    }
   ],
   "source": [
    "x=[1,1,2,3,3,4,4]\n",
    "\n",
    "for e in x:\n",
    " co=0\n",
    " if e==2:\n",
    "   co=co+1\n",
    " if co!=1:\n",
    "   x.remove(e)\n",
    "print(x)"
   ]
  },
  {
   "cell_type": "markdown",
   "metadata": {},
   "source": [
    "# Problem-4: \n",
    "Write a Python function that:\n",
    "\n",
    "1. Takes a list of words as input.\n",
    "2. Iterates through the list to find the word with the maximum length.\n",
    "3. Returns the longest word and its length.\n",
    "\n",
    "Example:\n",
    "- Input: `[\"apple\", \"banana\", \"cherry\", \"date\"]`\n",
    "- Output: `\"banana\", 6`"
   ]
  },
  {
   "cell_type": "code",
   "execution_count": null,
   "metadata": {},
   "outputs": [],
   "source": [
    "x=[]\n",
    "for w in x:\n",
    "\n"
   ]
  }
 ],
 "metadata": {
  "kernelspec": {
   "display_name": "Python 3",
   "language": "python",
   "name": "python3"
  },
  "language_info": {
   "codemirror_mode": {
    "name": "ipython",
    "version": 3
   },
   "file_extension": ".py",
   "mimetype": "text/x-python",
   "name": "python",
   "nbconvert_exporter": "python",
   "pygments_lexer": "ipython3",
   "version": "3.13.1"
  }
 },
 "nbformat": 4,
 "nbformat_minor": 2
}
